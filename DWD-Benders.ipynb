{
  "nbformat": 4,
  "nbformat_minor": 0,
  "metadata": {
    "colab": {
      "provenance": []
    },
    "kernelspec": {
      "name": "python3",
      "display_name": "Python 3"
    },
    "language_info": {
      "name": "python"
    }
  },
  "cells": [
    {
      "cell_type": "code",
      "source": [
        "!pip install gurobipy"
      ],
      "metadata": {
        "colab": {
          "base_uri": "https://localhost:8080/"
        },
        "id": "v8l8DSWg1lkU",
        "outputId": "de79965f-8ba8-4e73-aac5-d457cb938660"
      },
      "execution_count": 22,
      "outputs": [
        {
          "output_type": "stream",
          "name": "stdout",
          "text": [
            "Requirement already satisfied: gurobipy in /usr/local/lib/python3.10/dist-packages (11.0.3)\n"
          ]
        }
      ]
    },
    {
      "cell_type": "markdown",
      "source": [
        "# **DWD Q1**"
      ],
      "metadata": {
        "id": "YOc0hswK3Sh0"
      }
    },
    {
      "cell_type": "code",
      "execution_count": 23,
      "metadata": {
        "colab": {
          "base_uri": "https://localhost:8080/"
        },
        "id": "23Gf5veqx4KE",
        "outputId": "e2676a2d-0d17-4ffe-fa34-cabcf6c22008"
      },
      "outputs": [
        {
          "output_type": "stream",
          "name": "stdout",
          "text": [
            "Gurobi Optimizer version 11.0.3 build v11.0.3rc0 (linux64 - \"Ubuntu 22.04.3 LTS\")\n",
            "\n",
            "CPU model: Intel(R) Xeon(R) CPU @ 2.20GHz, instruction set [SSE2|AVX|AVX2]\n",
            "Thread count: 1 physical cores, 2 logical processors, using up to 2 threads\n",
            "\n",
            "Optimize a model with 3 rows, 3 columns and 4 nonzeros\n",
            "Model fingerprint: 0xe7be8262\n",
            "Coefficient statistics:\n",
            "  Matrix range     [1e+00, 5e+00]\n",
            "  Objective range  [5e+00, 5e+00]\n",
            "  Bounds range     [0e+00, 0e+00]\n",
            "  RHS range        [1e+00, 4e+01]\n",
            "Presolve removed 3 rows and 3 columns\n",
            "Presolve time: 0.01s\n",
            "Presolve: All rows and columns removed\n",
            "Iteration    Objective       Primal Inf.    Dual Inf.      Time\n",
            "       0    5.0000000e+00   0.000000e+00   0.000000e+00      0s\n",
            "\n",
            "Solved in 0 iterations and 0.01 seconds (0.00 work units)\n",
            "Optimal objective  5.000000000e+00\n",
            "Optimal beta_0 = 1.0\n",
            "Optimal alpha_0 = 1.0\n",
            "Optimal s_1 = 35.0\n",
            "Objective value (5 * beta_0) = 5.0\n",
            "\n",
            "Shadow Prices for Constraints:\n",
            "c1: -0.0\n",
            "c2: -0.0\n",
            "c3: 5.0\n"
          ]
        }
      ],
      "source": [
        "import gurobipy as gp\n",
        "from gurobipy import GRB\n",
        "\n",
        "model = gp.Model(\"i1m\")\n",
        "\n",
        "beta0 = model.addVar(name=\"beta_0\", lb=0)\n",
        "alpha0 = model.addVar(name=\"alpha_0\", lb=0)\n",
        "s1 = model.addVar(name=\"s_1\", lb=0)\n",
        "\n",
        "model.addConstr(5 * beta0 + s1 == 40, \"c1\")\n",
        "model.addConstr(alpha0 == 1, \"c2\")\n",
        "model.addConstr(beta0 == 1, \"c3\")\n",
        "\n",
        "model.setObjective(5 * beta0, GRB.MAXIMIZE)\n",
        "\n",
        "model.optimize()\n",
        "\n",
        "print(f\"Optimal beta_0 = {beta0.X}\")\n",
        "print(f\"Optimal alpha_0 = {alpha0.X}\")\n",
        "print(f\"Optimal s_1 = {s1.X}\")\n",
        "print(f\"Objective value (5 * beta_0) = {model.objVal}\")\n",
        "print(\"\\nShadow Prices for Constraints:\")\n",
        "for constr in model.getConstrs():\n",
        "    print(f\"{constr.ConstrName}: {constr.Pi}\")"
      ]
    },
    {
      "cell_type": "code",
      "source": [
        "import gurobipy as gp\n",
        "from gurobipy import GRB\n",
        "\n",
        "model = gp.Model(\"i1s1\")\n",
        "\n",
        "x1 = model.addVar(name=\"x1\", lb=0)\n",
        "x2 = model.addVar(name=\"x2\", lb=0)\n",
        "\n",
        "model.setObjective(3 * x1 + 5 * x2, GRB.MAXIMIZE)\n",
        "\n",
        "model.addConstr(5 * x1 + x2 <= 12, \"c1\")\n",
        "\n",
        "model.optimize()\n",
        "\n",
        "print(f\"Optimal x1 = {x1.X}\")\n",
        "print(f\"Optimal x2 = {x2.X}\")\n",
        "print(f\"Objective value = {model.objVal}\")"
      ],
      "metadata": {
        "colab": {
          "base_uri": "https://localhost:8080/"
        },
        "id": "CLk0RBXO3UlC",
        "outputId": "107daf16-375d-4bf4-c82c-576425e84350"
      },
      "execution_count": 24,
      "outputs": [
        {
          "output_type": "stream",
          "name": "stdout",
          "text": [
            "Gurobi Optimizer version 11.0.3 build v11.0.3rc0 (linux64 - \"Ubuntu 22.04.3 LTS\")\n",
            "\n",
            "CPU model: Intel(R) Xeon(R) CPU @ 2.20GHz, instruction set [SSE2|AVX|AVX2]\n",
            "Thread count: 1 physical cores, 2 logical processors, using up to 2 threads\n",
            "\n",
            "Optimize a model with 1 rows, 2 columns and 2 nonzeros\n",
            "Model fingerprint: 0xe41f2c0a\n",
            "Coefficient statistics:\n",
            "  Matrix range     [1e+00, 5e+00]\n",
            "  Objective range  [3e+00, 5e+00]\n",
            "  Bounds range     [0e+00, 0e+00]\n",
            "  RHS range        [1e+01, 1e+01]\n",
            "Presolve removed 1 rows and 2 columns\n",
            "Presolve time: 0.01s\n",
            "Presolve: All rows and columns removed\n",
            "Iteration    Objective       Primal Inf.    Dual Inf.      Time\n",
            "       0    6.0000000e+01   0.000000e+00   0.000000e+00      0s\n",
            "\n",
            "Solved in 0 iterations and 0.01 seconds (0.00 work units)\n",
            "Optimal objective  6.000000000e+01\n",
            "Optimal x1 = 0.0\n",
            "Optimal x2 = 12.0\n",
            "Objective value = 60.0\n"
          ]
        }
      ]
    },
    {
      "cell_type": "code",
      "source": [
        "import gurobipy as gp\n",
        "from gurobipy import GRB\n",
        "\n",
        "model = gp.Model(\"i1s2\")\n",
        "\n",
        "x3 = model.addVar(name=\"x3\", lb=0)\n",
        "x4 = model.addVar(name=\"x4\", lb=0)\n",
        "\n",
        "model.setObjective(x3 + x4 - 5, GRB.MAXIMIZE)\n",
        "\n",
        "model.addConstr(x3 + x4 >= 5, \"c1\")\n",
        "model.addConstr(x3 + 5 * x4 <= 50, \"c2\")\n",
        "\n",
        "\n",
        "model.optimize()\n",
        "\n",
        "print(f\"Optimal x3 = {x3.X}\")\n",
        "print(f\"Optimal x4 = {x4.X}\")\n",
        "print(f\"Objective value = {model.objVal}\")\n"
      ],
      "metadata": {
        "colab": {
          "base_uri": "https://localhost:8080/"
        },
        "id": "eHys9DtR6cJu",
        "outputId": "a1bb9d05-a43e-4091-f8d3-43482603f1bb"
      },
      "execution_count": 25,
      "outputs": [
        {
          "output_type": "stream",
          "name": "stdout",
          "text": [
            "Gurobi Optimizer version 11.0.3 build v11.0.3rc0 (linux64 - \"Ubuntu 22.04.3 LTS\")\n",
            "\n",
            "CPU model: Intel(R) Xeon(R) CPU @ 2.20GHz, instruction set [SSE2|AVX|AVX2]\n",
            "Thread count: 1 physical cores, 2 logical processors, using up to 2 threads\n",
            "\n",
            "Optimize a model with 2 rows, 2 columns and 4 nonzeros\n",
            "Model fingerprint: 0x9bc47a39\n",
            "Coefficient statistics:\n",
            "  Matrix range     [1e+00, 5e+00]\n",
            "  Objective range  [1e+00, 1e+00]\n",
            "  Bounds range     [0e+00, 0e+00]\n",
            "  RHS range        [5e+00, 5e+01]\n",
            "Presolve removed 2 rows and 2 columns\n",
            "Presolve time: 0.01s\n",
            "Presolve: All rows and columns removed\n",
            "Iteration    Objective       Primal Inf.    Dual Inf.      Time\n",
            "       0    4.5000000e+01   0.000000e+00   0.000000e+00      0s\n",
            "\n",
            "Solved in 0 iterations and 0.01 seconds (0.00 work units)\n",
            "Optimal objective  4.500000000e+01\n",
            "Optimal x3 = 50.0\n",
            "Optimal x4 = 0.0\n",
            "Objective value = 45.0\n"
          ]
        }
      ]
    },
    {
      "cell_type": "code",
      "source": [
        "import gurobipy as gp\n",
        "from gurobipy import GRB\n",
        "\n",
        "model = gp.Model(\"i2m\")\n",
        "\n",
        "beta0 = model.addVar(name=\"beta_0\", lb=0)\n",
        "beta1 = model.addVar(name=\"beta_1\", lb=0)\n",
        "alpha0 = model.addVar(name=\"alpha_0\", lb=0)\n",
        "alpha1 = model.addVar(name=\"alpha_1\", lb=0)\n",
        "s2 = model.addVar(name=\"s_2\", lb=0)\n",
        "\n",
        "model.setObjective(5 * beta0 + 60 * alpha1 + 50 * beta1, GRB.MAXIMIZE)\n",
        "\n",
        "c1 = model.addConstr(5 * beta0 + 12 * alpha1 + 50 * beta1 + s2 == 40, \"c1\")\n",
        "c2 = model.addConstr(alpha0 + alpha1 == 1, \"c2\")\n",
        "c3 = model.addConstr(beta0 + beta1 == 1, \"c3\")\n",
        "\n",
        "model.optimize()\n",
        "\n",
        "print(f\"Optimal beta_0 = {beta0.X}\")\n",
        "print(f\"Optimal beta_1 = {beta1.X}\")\n",
        "print(f\"Optimal alpha_0 = {alpha0.X}\")\n",
        "print(f\"Optimal alpha_1 = {alpha1.X}\")\n",
        "print(f\"Optimal s_2 = {s2.X}\")\n",
        "print(f\"Objective value = {model.objVal}\")\n",
        "\n",
        "print(\"\\nShadow Prices for Constraints:\")\n",
        "for constr in model.getConstrs():\n",
        "    print(f\"{constr.ConstrName}: {constr.Pi}\")"
      ],
      "metadata": {
        "colab": {
          "base_uri": "https://localhost:8080/"
        },
        "id": "2S_5PE-z755C",
        "outputId": "b0dca2fd-ef09-47cc-df2e-b1ac79d5ab75"
      },
      "execution_count": 26,
      "outputs": [
        {
          "output_type": "stream",
          "name": "stdout",
          "text": [
            "Gurobi Optimizer version 11.0.3 build v11.0.3rc0 (linux64 - \"Ubuntu 22.04.3 LTS\")\n",
            "\n",
            "CPU model: Intel(R) Xeon(R) CPU @ 2.20GHz, instruction set [SSE2|AVX|AVX2]\n",
            "Thread count: 1 physical cores, 2 logical processors, using up to 2 threads\n",
            "\n",
            "Optimize a model with 3 rows, 5 columns and 8 nonzeros\n",
            "Model fingerprint: 0x01f7812c\n",
            "Coefficient statistics:\n",
            "  Matrix range     [1e+00, 5e+01]\n",
            "  Objective range  [5e+00, 6e+01]\n",
            "  Bounds range     [0e+00, 0e+00]\n",
            "  RHS range        [1e+00, 4e+01]\n",
            "Presolve removed 3 rows and 5 columns\n",
            "Presolve time: 0.01s\n",
            "Presolve: All rows and columns removed\n",
            "Iteration    Objective       Primal Inf.    Dual Inf.      Time\n",
            "       0    8.8000000e+01   0.000000e+00   0.000000e+00      0s\n",
            "\n",
            "Solved in 0 iterations and 0.01 seconds (0.00 work units)\n",
            "Optimal objective  8.800000000e+01\n",
            "Optimal beta_0 = 0.4888888888888888\n",
            "Optimal beta_1 = 0.5111111111111112\n",
            "Optimal alpha_0 = 0.0\n",
            "Optimal alpha_1 = 1.0\n",
            "Optimal s_2 = 0.0\n",
            "Objective value = 88.0\n",
            "\n",
            "Shadow Prices for Constraints:\n",
            "c1: 1.0\n",
            "c2: 48.0\n",
            "c3: -0.0\n"
          ]
        }
      ]
    },
    {
      "cell_type": "code",
      "source": [
        "import gurobipy as gp\n",
        "from gurobipy import GRB\n",
        "\n",
        "model = gp.Model(\"i2s1\")\n",
        "\n",
        "x1 = model.addVar(name=\"x1\", lb=0)\n",
        "x2 = model.addVar(name=\"x2\", lb=0)\n",
        "\n",
        "model.setObjective(2 * x1 + 4 * x2 - 48, GRB.MAXIMIZE)\n",
        "\n",
        "model.addConstr(5 * x1 + x2 <= 12, \"c1\")\n",
        "\n",
        "model.optimize()\n",
        "\n",
        "print(f\"Optimal x1 = {x1.X}\")\n",
        "print(f\"Optimal x2 = {x2.X}\")\n",
        "print(f\"Objective value = {model.objVal}\")"
      ],
      "metadata": {
        "colab": {
          "base_uri": "https://localhost:8080/"
        },
        "id": "DuiyWZdA_7N1",
        "outputId": "307b702e-2d52-4eaa-f7c1-3052898868a2"
      },
      "execution_count": 27,
      "outputs": [
        {
          "output_type": "stream",
          "name": "stdout",
          "text": [
            "Gurobi Optimizer version 11.0.3 build v11.0.3rc0 (linux64 - \"Ubuntu 22.04.3 LTS\")\n",
            "\n",
            "CPU model: Intel(R) Xeon(R) CPU @ 2.20GHz, instruction set [SSE2|AVX|AVX2]\n",
            "Thread count: 1 physical cores, 2 logical processors, using up to 2 threads\n",
            "\n",
            "Optimize a model with 1 rows, 2 columns and 2 nonzeros\n",
            "Model fingerprint: 0xa943b18a\n",
            "Coefficient statistics:\n",
            "  Matrix range     [1e+00, 5e+00]\n",
            "  Objective range  [2e+00, 4e+00]\n",
            "  Bounds range     [0e+00, 0e+00]\n",
            "  RHS range        [1e+01, 1e+01]\n",
            "Presolve removed 1 rows and 2 columns\n",
            "Presolve time: 0.01s\n",
            "Presolve: All rows and columns removed\n",
            "Iteration    Objective       Primal Inf.    Dual Inf.      Time\n",
            "       0   -0.0000000e+00   0.000000e+00   0.000000e+00      0s\n",
            "\n",
            "Solved in 0 iterations and 0.01 seconds (0.00 work units)\n",
            "Optimal objective -0.000000000e+00\n",
            "Optimal x1 = 0.0\n",
            "Optimal x2 = 12.0\n",
            "Objective value = -0.0\n"
          ]
        }
      ]
    },
    {
      "cell_type": "code",
      "source": [
        "import gurobipy as gp\n",
        "from gurobipy import GRB\n",
        "\n",
        "model = gp.Model(\"i2s2\")\n",
        "\n",
        "x3 = model.addVar(name=\"x3\", lb=0)\n",
        "x4 = model.addVar(name=\"x4\", lb=0)\n",
        "\n",
        "model.setObjective(0, GRB.MAXIMIZE)\n",
        "\n",
        "model.addConstr(x3 + x4 >= 5, \"c1\")\n",
        "model.addConstr(x3 + 5 * x4 <= 50, \"c2\")\n",
        "\n",
        "model.optimize()\n",
        "\n",
        "print(f\"Optimal x3 = {x3.X}\")\n",
        "print(f\"Optimal x4 = {x4.X}\")\n",
        "print(f\"Objective value = {model.objVal}\")"
      ],
      "metadata": {
        "colab": {
          "base_uri": "https://localhost:8080/"
        },
        "id": "I9IyZelsEPo1",
        "outputId": "3b039868-9196-4fb2-ed01-d8f5af4d8993"
      },
      "execution_count": 28,
      "outputs": [
        {
          "output_type": "stream",
          "name": "stdout",
          "text": [
            "Gurobi Optimizer version 11.0.3 build v11.0.3rc0 (linux64 - \"Ubuntu 22.04.3 LTS\")\n",
            "\n",
            "CPU model: Intel(R) Xeon(R) CPU @ 2.20GHz, instruction set [SSE2|AVX|AVX2]\n",
            "Thread count: 1 physical cores, 2 logical processors, using up to 2 threads\n",
            "\n",
            "Optimize a model with 2 rows, 2 columns and 4 nonzeros\n",
            "Model fingerprint: 0x89a171d2\n",
            "Coefficient statistics:\n",
            "  Matrix range     [1e+00, 5e+00]\n",
            "  Objective range  [0e+00, 0e+00]\n",
            "  Bounds range     [0e+00, 0e+00]\n",
            "  RHS range        [5e+00, 5e+01]\n",
            "Presolve removed 2 rows and 2 columns\n",
            "Presolve time: 0.02s\n",
            "Presolve: All rows and columns removed\n",
            "Iteration    Objective       Primal Inf.    Dual Inf.      Time\n",
            "       0   -0.0000000e+00   0.000000e+00   0.000000e+00      0s\n",
            "\n",
            "Solved in 0 iterations and 0.03 seconds (0.00 work units)\n",
            "Optimal objective -0.000000000e+00\n",
            "Optimal x3 = 50.0\n",
            "Optimal x4 = 0.0\n",
            "Objective value = -0.0\n"
          ]
        }
      ]
    },
    {
      "cell_type": "markdown",
      "source": [
        "# **Bender's Q2**"
      ],
      "metadata": {
        "id": "3clU78UXEgcH"
      }
    },
    {
      "cell_type": "code",
      "source": [
        "import gurobipy as gp\n",
        "from gurobipy import GRB\n",
        "\n",
        "S_i = 0\n",
        "\n",
        "model = gp.Model(\"i1s1\")\n",
        "\n",
        "x1 = model.addVar(lb=0, name=\"x1\")\n",
        "x2 = model.addVar(lb=0, name=\"x2\")\n",
        "\n",
        "model.setObjective(3 * x1 + 5 * x2, GRB.MAXIMIZE)\n",
        "\n",
        "model.addConstr(5 * x1 + x2 <= 12 - 3 * S_i, \"c1\")\n",
        "model.addConstr(x1 + 2 * x2 <= 15 - S_i, \"c2\")\n",
        "\n",
        "model.optimize()\n",
        "\n",
        "if model.status == GRB.OPTIMAL:\n",
        "    print(f\"Optimal objective value: {model.objVal}\")\n",
        "    print(f\"x1: {x1.x}\")\n",
        "    print(f\"x2: {x2.x}\")\n",
        "else:\n",
        "    print(\"No optimal solution found.\")\n",
        "\n",
        "print(\"\\nShadow Prices for Constraints:\")\n",
        "for constr in model.getConstrs():\n",
        "    print(f\"{constr.ConstrName}: {constr.Pi}\")"
      ],
      "metadata": {
        "colab": {
          "base_uri": "https://localhost:8080/"
        },
        "id": "OUGPPRDSEjGk",
        "outputId": "17d29453-06e0-4234-ae37-b43c82f2c97a"
      },
      "execution_count": 29,
      "outputs": [
        {
          "output_type": "stream",
          "name": "stdout",
          "text": [
            "Gurobi Optimizer version 11.0.3 build v11.0.3rc0 (linux64 - \"Ubuntu 22.04.3 LTS\")\n",
            "\n",
            "CPU model: Intel(R) Xeon(R) CPU @ 2.20GHz, instruction set [SSE2|AVX|AVX2]\n",
            "Thread count: 1 physical cores, 2 logical processors, using up to 2 threads\n",
            "\n",
            "Optimize a model with 2 rows, 2 columns and 4 nonzeros\n",
            "Model fingerprint: 0x1d146bdc\n",
            "Coefficient statistics:\n",
            "  Matrix range     [1e+00, 5e+00]\n",
            "  Objective range  [3e+00, 5e+00]\n",
            "  Bounds range     [0e+00, 0e+00]\n",
            "  RHS range        [1e+01, 2e+01]\n",
            "Presolve time: 0.01s\n",
            "Presolved: 2 rows, 2 columns, 4 nonzeros\n",
            "\n",
            "Iteration    Objective       Primal Inf.    Dual Inf.      Time\n",
            "       0    8.0000000e+30   2.250000e+30   8.000000e+00      0s\n",
            "       2    3.8000000e+01   0.000000e+00   0.000000e+00      0s\n",
            "\n",
            "Solved in 2 iterations and 0.01 seconds (0.00 work units)\n",
            "Optimal objective  3.800000000e+01\n",
            "Optimal objective value: 38.0\n",
            "x1: 1.0\n",
            "x2: 7.0\n",
            "\n",
            "Shadow Prices for Constraints:\n",
            "c1: 0.1111111111111111\n",
            "c2: 2.4444444444444446\n"
          ]
        }
      ]
    },
    {
      "cell_type": "code",
      "source": [
        "import gurobipy as gp\n",
        "from gurobipy import GRB\n",
        "\n",
        "S_i = 0\n",
        "\n",
        "model = gp.Model(\"i1s2\")\n",
        "\n",
        "x3 = model.addVar(lb=0, name=\"x3\")\n",
        "x4 = model.addVar(lb=0, name=\"x4\")\n",
        "\n",
        "model.setObjective(x3 + x4, GRB.MAXIMIZE)\n",
        "\n",
        "model.addConstr(x3 + x4 <= 5 - 2 * S_i, \"c1\")\n",
        "model.addConstr(x3 + 5 * x4 <= 50 - 10 * S_i, \"c2\")\n",
        "\n",
        "model.optimize()\n",
        "\n",
        "if model.status == GRB.OPTIMAL:\n",
        "    print(f\"Optimal objective value: {model.objVal}\")\n",
        "    print(f\"x3: {x3.x}\")\n",
        "    print(f\"x4: {x4.x}\")\n",
        "else:\n",
        "    print(\"No optimal solution found.\")\n",
        "\n",
        "print(\"\\nShadow Prices for Constraints:\")\n",
        "for constr in model.getConstrs():\n",
        "    print(f\"{constr.ConstrName}: {constr.Pi}\")"
      ],
      "metadata": {
        "colab": {
          "base_uri": "https://localhost:8080/"
        },
        "id": "I6MNjPxYFUsF",
        "outputId": "a9ce90db-6f3e-4147-82dc-12907460d07e"
      },
      "execution_count": 30,
      "outputs": [
        {
          "output_type": "stream",
          "name": "stdout",
          "text": [
            "Gurobi Optimizer version 11.0.3 build v11.0.3rc0 (linux64 - \"Ubuntu 22.04.3 LTS\")\n",
            "\n",
            "CPU model: Intel(R) Xeon(R) CPU @ 2.20GHz, instruction set [SSE2|AVX|AVX2]\n",
            "Thread count: 1 physical cores, 2 logical processors, using up to 2 threads\n",
            "\n",
            "Optimize a model with 2 rows, 2 columns and 4 nonzeros\n",
            "Model fingerprint: 0x550e35cb\n",
            "Coefficient statistics:\n",
            "  Matrix range     [1e+00, 5e+00]\n",
            "  Objective range  [1e+00, 1e+00]\n",
            "  Bounds range     [0e+00, 0e+00]\n",
            "  RHS range        [5e+00, 5e+01]\n",
            "Presolve removed 2 rows and 2 columns\n",
            "Presolve time: 0.01s\n",
            "Presolve: All rows and columns removed\n",
            "Iteration    Objective       Primal Inf.    Dual Inf.      Time\n",
            "       0    5.0000000e+00   0.000000e+00   0.000000e+00      0s\n",
            "\n",
            "Solved in 0 iterations and 0.01 seconds (0.00 work units)\n",
            "Optimal objective  5.000000000e+00\n",
            "Optimal objective value: 5.0\n",
            "x3: 5.0\n",
            "x4: 0.0\n",
            "\n",
            "Shadow Prices for Constraints:\n",
            "c1: 1.0\n",
            "c2: 0.0\n"
          ]
        }
      ]
    },
    {
      "cell_type": "code",
      "source": [
        "import gurobipy as gp\n",
        "from gurobipy import GRB\n",
        "\n",
        "lambda_1 = 0.111111111111111111111\n",
        "lambda_2 = 2.444444444444444444442\n",
        "lambda_3 = 1.0\n",
        "lambda_4 = 0.0\n",
        "\n",
        "model = gp.Model(\"i1m1\")\n",
        "\n",
        "S = model.addVar(vtype=GRB.CONTINUOUS, lb=0, ub=2.5, name=\"S\")\n",
        "z = model.addVar(vtype=GRB.CONTINUOUS, name=\"z\")\n",
        "\n",
        "model.setObjective(2 * S + z, GRB.MAXIMIZE)\n",
        "\n",
        "model.addConstr(z <= (12 - 3 * S) * lambda_1 + (15 - S) * lambda_2 + (5 - 2 * S) * lambda_3 + (50 - 10 * S) * lambda_4, \"c1\")\n",
        "\n",
        "model.optimize()\n",
        "\n",
        "if model.status == GRB.OPTIMAL:\n",
        "    print(f\"Optimal objective value: {model.objVal}\")\n",
        "    print(f\"S: {S.x}\")\n",
        "    print(f\"z: {z.x}\")\n",
        "else:\n",
        "    print(\"No optimal solution found.\")"
      ],
      "metadata": {
        "colab": {
          "base_uri": "https://localhost:8080/"
        },
        "id": "vEV2IzeqICCX",
        "outputId": "e777ac70-bccc-4682-f575-71ffdaf2f8bf"
      },
      "execution_count": 31,
      "outputs": [
        {
          "output_type": "stream",
          "name": "stdout",
          "text": [
            "Gurobi Optimizer version 11.0.3 build v11.0.3rc0 (linux64 - \"Ubuntu 22.04.3 LTS\")\n",
            "\n",
            "CPU model: Intel(R) Xeon(R) CPU @ 2.20GHz, instruction set [SSE2|AVX|AVX2]\n",
            "Thread count: 1 physical cores, 2 logical processors, using up to 2 threads\n",
            "\n",
            "Optimize a model with 1 rows, 2 columns and 2 nonzeros\n",
            "Model fingerprint: 0x26e2b760\n",
            "Coefficient statistics:\n",
            "  Matrix range     [1e+00, 5e+00]\n",
            "  Objective range  [1e+00, 2e+00]\n",
            "  Bounds range     [2e+00, 2e+00]\n",
            "  RHS range        [4e+01, 4e+01]\n",
            "Presolve removed 1 rows and 2 columns\n",
            "Presolve time: 0.01s\n",
            "Presolve: All rows and columns removed\n",
            "Iteration    Objective       Primal Inf.    Dual Inf.      Time\n",
            "       0    4.3000000e+01   0.000000e+00   0.000000e+00      0s\n",
            "\n",
            "Solved in 0 iterations and 0.01 seconds (0.00 work units)\n",
            "Optimal objective  4.300000000e+01\n",
            "Optimal objective value: 43.00000000000001\n",
            "S: 0.0\n",
            "z: 43.00000000000001\n"
          ]
        }
      ]
    },
    {
      "cell_type": "code",
      "source": [
        "import gurobipy as gp\n",
        "from gurobipy import GRB\n",
        "\n",
        "model = gp.Model(\"direct_solve\")\n",
        "\n",
        "x1 = model.addVar(vtype=GRB.CONTINUOUS, lb=0, name=\"x1\")\n",
        "x2 = model.addVar(vtype=GRB.CONTINUOUS, lb=0, name=\"x2\")\n",
        "x3 = model.addVar(vtype=GRB.CONTINUOUS, lb=0, name=\"x3\")\n",
        "x4 = model.addVar(vtype=GRB.CONTINUOUS, lb=0, name=\"x4\")\n",
        "S = model.addVar(vtype=GRB.CONTINUOUS, lb=0, name=\"S\")\n",
        "\n",
        "model.setObjective(3 * x1 + 5 * x2 + x3 + x4 + 2 * S, GRB.MAXIMIZE)\n",
        "\n",
        "model.addConstr(5 * x1 + x2 + 3 * S <= 12, \"c1\")\n",
        "model.addConstr(x1 + 2 * x2 + S <= 15, \"c2\")\n",
        "model.addConstr(x3 + x4 + 2 * S <= 5, \"c3\")\n",
        "model.addConstr(x3 + 5 * x4 + 10 * S <= 50, \"c4\")\n",
        "\n",
        "model.optimize()\n",
        "\n",
        "if model.status == GRB.OPTIMAL:\n",
        "    print(f\"Optimal objective value: {model.objVal}\")\n",
        "    print(f\"x1: {x1.x}\")\n",
        "    print(f\"x2: {x2.x}\")\n",
        "    print(f\"x3: {x3.x}\")\n",
        "    print(f\"x4: {x4.x}\")\n",
        "    print(f\"S: {S.x}\")\n",
        "else:\n",
        "    print(\"No optimal solution found.\")"
      ],
      "metadata": {
        "colab": {
          "base_uri": "https://localhost:8080/"
        },
        "id": "mhXnQtu4JHLz",
        "outputId": "b4f74b22-981e-48a2-aa2d-a4c8527ff883"
      },
      "execution_count": 32,
      "outputs": [
        {
          "output_type": "stream",
          "name": "stdout",
          "text": [
            "Gurobi Optimizer version 11.0.3 build v11.0.3rc0 (linux64 - \"Ubuntu 22.04.3 LTS\")\n",
            "\n",
            "CPU model: Intel(R) Xeon(R) CPU @ 2.20GHz, instruction set [SSE2|AVX|AVX2]\n",
            "Thread count: 1 physical cores, 2 logical processors, using up to 2 threads\n",
            "\n",
            "Optimize a model with 4 rows, 5 columns and 12 nonzeros\n",
            "Model fingerprint: 0x12b1419e\n",
            "Coefficient statistics:\n",
            "  Matrix range     [1e+00, 1e+01]\n",
            "  Objective range  [1e+00, 5e+00]\n",
            "  Bounds range     [0e+00, 0e+00]\n",
            "  RHS range        [5e+00, 5e+01]\n",
            "Presolve time: 0.01s\n",
            "Presolved: 4 rows, 5 columns, 12 nonzeros\n",
            "\n",
            "Iteration    Objective       Primal Inf.    Dual Inf.      Time\n",
            "       0    1.1000000e+31   7.062500e+30   1.100000e+01      0s\n",
            "       5    4.3000000e+01   0.000000e+00   0.000000e+00      0s\n",
            "\n",
            "Solved in 5 iterations and 0.01 seconds (0.00 work units)\n",
            "Optimal objective  4.300000000e+01\n",
            "Optimal objective value: 43.0\n",
            "x1: 1.0\n",
            "x2: 7.0\n",
            "x3: 0.0\n",
            "x4: 5.0\n",
            "S: 0.0\n"
          ]
        }
      ]
    },
    {
      "cell_type": "markdown",
      "source": [
        "# **DWD Q3**"
      ],
      "metadata": {
        "id": "8vq-mLjD1LgP"
      }
    },
    {
      "cell_type": "code",
      "source": [
        "import gurobipy as gp\n",
        "from gurobipy import GRB\n",
        "\n",
        "model = gp.Model(\"i1s1\")\n",
        "\n",
        "x1 = model.addVar(lb = 0, name=\"x1\")\n",
        "x3 = model.addVar(lb = 0, name=\"x3\")\n",
        "x4 = model.addVar(lb = 0, name=\"x4\")\n",
        "\n",
        "model.setObjective(6 * x1 + 6 * x3 + 5 * x4, GRB.MAXIMIZE)\n",
        "\n",
        "model.addConstr(20 * x1 + 10 * x3 + 30 * x4 <= 250, \"c1\")\n",
        "model.addConstr(2 * x1 + 3 * x3 + x4 <= 10, \"c2\")\n",
        "\n",
        "model.optimize()\n",
        "\n",
        "if model.status == GRB.OPTIMAL:\n",
        "    print(f\"Optimal value of x1: {x1.X}\")\n",
        "    print(f\"Optimal value of x3: {x3.X}\")\n",
        "    print(f\"Optimal value of x4: {x4.X}\")\n",
        "    print(f\"Optimal value of z: {model.ObjVal}\")\n",
        "else:\n",
        "    print(\"No optimal solution found.\")"
      ],
      "metadata": {
        "colab": {
          "base_uri": "https://localhost:8080/"
        },
        "id": "oyFAAI_t1NpA",
        "outputId": "4a2d8be0-36ad-43b8-85aa-79dedbcf4efa"
      },
      "execution_count": 33,
      "outputs": [
        {
          "output_type": "stream",
          "name": "stdout",
          "text": [
            "Gurobi Optimizer version 11.0.3 build v11.0.3rc0 (linux64 - \"Ubuntu 22.04.3 LTS\")\n",
            "\n",
            "CPU model: Intel(R) Xeon(R) CPU @ 2.20GHz, instruction set [SSE2|AVX|AVX2]\n",
            "Thread count: 1 physical cores, 2 logical processors, using up to 2 threads\n",
            "\n",
            "Optimize a model with 2 rows, 3 columns and 6 nonzeros\n",
            "Model fingerprint: 0x8410359d\n",
            "Coefficient statistics:\n",
            "  Matrix range     [1e+00, 3e+01]\n",
            "  Objective range  [5e+00, 6e+00]\n",
            "  Bounds range     [0e+00, 0e+00]\n",
            "  RHS range        [1e+01, 2e+02]\n",
            "Presolve time: 0.01s\n",
            "Presolved: 2 rows, 3 columns, 6 nonzeros\n",
            "\n",
            "Iteration    Objective       Primal Inf.    Dual Inf.      Time\n",
            "       0    4.2500000e+30   3.375000e+30   4.250000e+00      0s\n",
            "       3    4.5000000e+01   0.000000e+00   0.000000e+00      0s\n",
            "\n",
            "Solved in 3 iterations and 0.01 seconds (0.00 work units)\n",
            "Optimal objective  4.500000000e+01\n",
            "Optimal value of x1: 1.25\n",
            "Optimal value of x3: 0.0\n",
            "Optimal value of x4: 7.5\n",
            "Optimal value of z: 45.0\n"
          ]
        }
      ]
    },
    {
      "cell_type": "code",
      "source": [
        "import gurobipy as gp\n",
        "from gurobipy import GRB\n",
        "\n",
        "model = gp.Model(\"i1s2\")\n",
        "\n",
        "x2 = model.addVar(lb=0, name=\"x2\")\n",
        "x5 = model.addVar(lb=0, name=\"x5\")\n",
        "\n",
        "model.setObjective(7 * x2 + 11 * x5, GRB.MAXIMIZE)\n",
        "\n",
        "model.addConstr(10 * x2 + 50 * x5 <= 200, \"c1\")\n",
        "model.addConstr(x2 + 1.5 * x5 <= 7, \"c2\")\n",
        "\n",
        "model.optimize()\n",
        "\n",
        "if model.status == GRB.OPTIMAL:\n",
        "    print(f\"Optimal value of x2: {x2.X}\")\n",
        "    print(f\"Optimal value of x5: {x5.X}\")\n",
        "    print(f\"Optimal value of z: {model.ObjVal}\")\n",
        "else:\n",
        "    print(\"No optimal solution found.\")"
      ],
      "metadata": {
        "colab": {
          "base_uri": "https://localhost:8080/"
        },
        "id": "nBNYSilt6hFd",
        "outputId": "c1822e3d-d17d-471e-c2cf-ccd90f03cc54"
      },
      "execution_count": 34,
      "outputs": [
        {
          "output_type": "stream",
          "name": "stdout",
          "text": [
            "Gurobi Optimizer version 11.0.3 build v11.0.3rc0 (linux64 - \"Ubuntu 22.04.3 LTS\")\n",
            "\n",
            "CPU model: Intel(R) Xeon(R) CPU @ 2.20GHz, instruction set [SSE2|AVX|AVX2]\n",
            "Thread count: 1 physical cores, 2 logical processors, using up to 2 threads\n",
            "\n",
            "Optimize a model with 2 rows, 2 columns and 4 nonzeros\n",
            "Model fingerprint: 0xf37fdb63\n",
            "Coefficient statistics:\n",
            "  Matrix range     [1e+00, 5e+01]\n",
            "  Objective range  [7e+00, 1e+01]\n",
            "  Bounds range     [0e+00, 0e+00]\n",
            "  RHS range        [7e+00, 2e+02]\n",
            "Presolve time: 0.01s\n",
            "Presolved: 2 rows, 2 columns, 4 nonzeros\n",
            "\n",
            "Iteration    Objective       Primal Inf.    Dual Inf.      Time\n",
            "       0    4.8750000e+30   2.781250e+30   4.875000e+00      0s\n",
            "       2    5.0857143e+01   0.000000e+00   0.000000e+00      0s\n",
            "\n",
            "Solved in 2 iterations and 0.01 seconds (0.00 work units)\n",
            "Optimal objective  5.085714286e+01\n",
            "Optimal value of x2: 1.4285714285714286\n",
            "Optimal value of x5: 3.7142857142857144\n",
            "Optimal value of z: 50.85714285714286\n"
          ]
        }
      ]
    },
    {
      "cell_type": "code",
      "source": [
        "import gurobipy as gp\n",
        "from gurobipy import GRB\n",
        "\n",
        "model = gp.Model(\"i2m\")\n",
        "\n",
        "alpha_0 = model.addVar(lb=0, name=\"alpha_0\")\n",
        "alpha_1 = model.addVar(lb=0, name=\"alpha_1\")\n",
        "beta_0 = model.addVar(lb=0, name=\"beta_0\")\n",
        "beta_1 = model.addVar(lb=0, name=\"beta_1\")\n",
        "s1 = model.addVar(lb=0, name=\"s1\")\n",
        "\n",
        "model.setObjective(45 * alpha_1 + 50.85714 * beta_1, GRB.MAXIMIZE)\n",
        "\n",
        "model.addConstr(21.25 * alpha_1 + 34 * beta_1 + s1 == 50, \"c1\")\n",
        "model.addConstr(alpha_0 + alpha_1 == 1, \"c2\")\n",
        "model.addConstr(beta_0 + beta_1 == 1, \"c3\")\n",
        "\n",
        "model.optimize()\n",
        "\n",
        "if model.status == GRB.OPTIMAL:\n",
        "    print(f\"Optimal value of alpha_0: {alpha_0.X}\")\n",
        "    print(f\"Optimal value of alpha_1: {alpha_1.X}\")\n",
        "    print(f\"Optimal value of beta_0: {beta_0.X}\")\n",
        "    print(f\"Optimal value of beta_1: {beta_1.X}\")\n",
        "    print(f\"Optimal value of s1: {s1.X}\")\n",
        "    print(f\"Optimal value of z: {model.ObjVal}\")\n",
        "else:\n",
        "    print(\"No optimal solution found.\")\n",
        "\n",
        "print(\"\\nShadow Prices for Constraints:\")\n",
        "for constr in model.getConstrs():\n",
        "    print(f\"{constr.ConstrName}: {constr.Pi}\")"
      ],
      "metadata": {
        "colab": {
          "base_uri": "https://localhost:8080/"
        },
        "id": "Sgilfgw191k9",
        "outputId": "b2de1e0c-adf8-44d3-b76c-4b0cb9ed2204"
      },
      "execution_count": 35,
      "outputs": [
        {
          "output_type": "stream",
          "name": "stdout",
          "text": [
            "Gurobi Optimizer version 11.0.3 build v11.0.3rc0 (linux64 - \"Ubuntu 22.04.3 LTS\")\n",
            "\n",
            "CPU model: Intel(R) Xeon(R) CPU @ 2.20GHz, instruction set [SSE2|AVX|AVX2]\n",
            "Thread count: 1 physical cores, 2 logical processors, using up to 2 threads\n",
            "\n",
            "Optimize a model with 3 rows, 5 columns and 7 nonzeros\n",
            "Model fingerprint: 0xb51ac8b6\n",
            "Coefficient statistics:\n",
            "  Matrix range     [1e+00, 3e+01]\n",
            "  Objective range  [4e+01, 5e+01]\n",
            "  Bounds range     [0e+00, 0e+00]\n",
            "  RHS range        [1e+00, 5e+01]\n",
            "Presolve removed 2 rows and 3 columns\n",
            "Presolve time: 0.01s\n",
            "Presolved: 1 rows, 2 columns, 2 nonzeros\n",
            "\n",
            "Iteration    Objective       Primal Inf.    Dual Inf.      Time\n",
            "       0    1.0588235e+02   5.411765e+00   0.000000e+00      0s\n",
            "       1    8.8004199e+01   0.000000e+00   0.000000e+00      0s\n",
            "\n",
            "Solved in 1 iterations and 0.01 seconds (0.00 work units)\n",
            "Optimal objective  8.800419926e+01\n",
            "Optimal value of alpha_0: 0.0\n",
            "Optimal value of alpha_1: 1.0\n",
            "Optimal value of beta_0: 0.15441176470588236\n",
            "Optimal value of beta_1: 0.8455882352941176\n",
            "Optimal value of s1: 0.0\n",
            "Optimal value of z: 88.00419926470587\n",
            "\n",
            "Shadow Prices for Constraints:\n",
            "c1: 1.4957982352941177\n",
            "c2: 13.214287499999998\n",
            "c3: -0.0\n"
          ]
        }
      ]
    },
    {
      "cell_type": "code",
      "source": [
        "import gurobipy as gp\n",
        "from gurobipy import GRB\n",
        "\n",
        "model = gp.Model(\"i2s1\")\n",
        "\n",
        "x1 = model.addVar(lb=0, name=\"x1\")\n",
        "x3 = model.addVar(lb=0, name=\"x3\")\n",
        "x4 = model.addVar(lb=0, name=\"x4\")\n",
        "\n",
        "model.setObjective(-1.47899 * x1 + 0.0168 * x3 + 2.0084 * x4 - 13.214, GRB.MAXIMIZE)\n",
        "\n",
        "model.addConstr(2 * x1 + x3 + 3 * x4 <= 25, \"c1\")\n",
        "model.addConstr(2 * x1 + 3 * x3 + x4 <= 10, \"c2\")\n",
        "\n",
        "model.optimize()\n",
        "\n",
        "if model.status == GRB.OPTIMAL:\n",
        "    print(f\"Optimal value of x1: {x1.X}\")\n",
        "    print(f\"Optimal value of x3: {x3.X}\")\n",
        "    print(f\"Optimal value of x4: {x4.X}\")\n",
        "    print(f\"Optimal value of z: {model.ObjVal}\")\n",
        "else:\n",
        "    print(\"No optimal solution found.\")"
      ],
      "metadata": {
        "colab": {
          "base_uri": "https://localhost:8080/"
        },
        "id": "GHXBRx8lAjIb",
        "outputId": "ca0683a0-0332-4ac3-af1f-86f84a50e10f"
      },
      "execution_count": 36,
      "outputs": [
        {
          "output_type": "stream",
          "name": "stdout",
          "text": [
            "Gurobi Optimizer version 11.0.3 build v11.0.3rc0 (linux64 - \"Ubuntu 22.04.3 LTS\")\n",
            "\n",
            "CPU model: Intel(R) Xeon(R) CPU @ 2.20GHz, instruction set [SSE2|AVX|AVX2]\n",
            "Thread count: 1 physical cores, 2 logical processors, using up to 2 threads\n",
            "\n",
            "Optimize a model with 2 rows, 3 columns and 6 nonzeros\n",
            "Model fingerprint: 0x14f5a485\n",
            "Coefficient statistics:\n",
            "  Matrix range     [1e+00, 3e+00]\n",
            "  Objective range  [2e-02, 2e+00]\n",
            "  Bounds range     [0e+00, 0e+00]\n",
            "  RHS range        [1e+01, 2e+01]\n",
            "Presolve removed 0 rows and 1 columns\n",
            "Presolve time: 0.01s\n",
            "Presolved: 2 rows, 2 columns, 4 nonzeros\n",
            "\n",
            "Iteration    Objective       Primal Inf.    Dual Inf.      Time\n",
            "       0    3.5226667e+00   0.000000e+00   0.000000e+00      0s\n",
            "       0    3.5226667e+00   0.000000e+00   0.000000e+00      0s\n",
            "\n",
            "Solved in 0 iterations and 0.02 seconds (0.00 work units)\n",
            "Optimal objective  3.522666667e+00\n",
            "Optimal value of x1: 0.0\n",
            "Optimal value of x3: 0.0\n",
            "Optimal value of x4: 8.333333333333334\n",
            "Optimal value of z: 3.5226666666666677\n"
          ]
        }
      ]
    },
    {
      "cell_type": "code",
      "source": [
        "import gurobipy as gp\n",
        "from gurobipy import GRB\n",
        "\n",
        "model = gp.Model(\"i2s2\")\n",
        "\n",
        "x2 = model.addVar(lb=0, name=\"x2\")\n",
        "x5 = model.addVar(lb=0, name=\"x5\")\n",
        "\n",
        "model.setObjective(2.512605295 * x2 - 0.96638588 * x5, GRB.MAXIMIZE)\n",
        "\n",
        "model.addConstr(x2 + 5 * x5 <= 20, \"c1\")\n",
        "model.addConstr(x2 + 1.5 * x5 <= 7, \"c2\")\n",
        "\n",
        "model.optimize()\n",
        "\n",
        "if model.status == GRB.OPTIMAL:\n",
        "    print(f\"Optimal value of x2: {x2.X}\")\n",
        "    print(f\"Optimal value of x5: {x5.X}\")\n",
        "    print(f\"Optimal value of z: {model.ObjVal}\")\n",
        "else:\n",
        "    print(\"No optimal solution found.\")"
      ],
      "metadata": {
        "colab": {
          "base_uri": "https://localhost:8080/"
        },
        "id": "I_T-3c70CVU5",
        "outputId": "3322f337-3fb2-4102-b5ee-af2cb0dd3b04"
      },
      "execution_count": 37,
      "outputs": [
        {
          "output_type": "stream",
          "name": "stdout",
          "text": [
            "Gurobi Optimizer version 11.0.3 build v11.0.3rc0 (linux64 - \"Ubuntu 22.04.3 LTS\")\n",
            "\n",
            "CPU model: Intel(R) Xeon(R) CPU @ 2.20GHz, instruction set [SSE2|AVX|AVX2]\n",
            "Thread count: 1 physical cores, 2 logical processors, using up to 2 threads\n",
            "\n",
            "Optimize a model with 2 rows, 2 columns and 4 nonzeros\n",
            "Model fingerprint: 0xb1d77ee1\n",
            "Coefficient statistics:\n",
            "  Matrix range     [1e+00, 5e+00]\n",
            "  Objective range  [1e+00, 3e+00]\n",
            "  Bounds range     [0e+00, 0e+00]\n",
            "  RHS range        [7e+00, 2e+01]\n",
            "Presolve removed 2 rows and 2 columns\n",
            "Presolve time: 0.01s\n",
            "Presolve: All rows and columns removed\n",
            "Iteration    Objective       Primal Inf.    Dual Inf.      Time\n",
            "       0    1.7588237e+01   0.000000e+00   0.000000e+00      0s\n",
            "\n",
            "Solved in 0 iterations and 0.01 seconds (0.00 work units)\n",
            "Optimal objective  1.758823707e+01\n",
            "Optimal value of x2: 7.0\n",
            "Optimal value of x5: 0.0\n",
            "Optimal value of z: 17.588237065\n"
          ]
        }
      ]
    },
    {
      "cell_type": "code",
      "source": [
        "import gurobipy as gp\n",
        "from gurobipy import GRB\n",
        "\n",
        "model = gp.Model(\"i3m\")\n",
        "\n",
        "alpha_0 = model.addVar(lb=0, name=\"alpha_0\")\n",
        "alpha_1 = model.addVar(lb=0, name=\"alpha_1\")\n",
        "alpha_2 = model.addVar(lb=0, name=\"alpha_2\")\n",
        "beta_0 = model.addVar(lb=0, name=\"beta_0\")\n",
        "beta_1 = model.addVar(lb=0, name=\"beta_1\")\n",
        "beta_2 = model.addVar(lb=0, name=\"beta_2\")\n",
        "s1 = model.addVar(lb=0, name=\"s1\")\n",
        "\n",
        "model.setObjective(45 * alpha_1 + 50.85714 * beta_1 + 41.66667 * alpha_2 + 49 * beta_2, GRB.MAXIMIZE)\n",
        "\n",
        "model.addConstr(21.250 * alpha_1 + 34 * beta_1 + 16.6667 * alpha_2 + 21 * beta_2 + s1 == 50, \"c1\")\n",
        "model.addConstr(alpha_0 + alpha_1 + alpha_2 == 1, \"c2\")\n",
        "model.addConstr(beta_0 + beta_1 + beta_2 == 1, \"c3\")\n",
        "\n",
        "model.optimize()\n",
        "\n",
        "if model.status == GRB.OPTIMAL:\n",
        "    print(f\"Optimal value of alpha_0: {alpha_0.X}\")\n",
        "    print(f\"Optimal value of alpha_1: {alpha_1.X}\")\n",
        "    print(f\"Optimal value of alpha_2: {alpha_2.X}\")\n",
        "    print(f\"Optimal value of beta_0: {beta_0.X}\")\n",
        "    print(f\"Optimal value of beta_1: {beta_1.X}\")\n",
        "    print(f\"Optimal value of beta_2: {beta_2.X}\")\n",
        "    print(f\"Optimal value of s1: {s1.X}\")\n",
        "    print(f\"Optimal value of z: {model.ObjVal}\")\n",
        "else:\n",
        "    print(\"No optimal solution found.\")\n",
        "print(\"\\nShadow Prices for Constraints:\")\n",
        "for constr in model.getConstrs():\n",
        "    print(f\"{constr.ConstrName}: {constr.Pi}\")"
      ],
      "metadata": {
        "colab": {
          "base_uri": "https://localhost:8080/"
        },
        "id": "8J4nzAAGGLBm",
        "outputId": "c151cbd1-aa0e-4179-a498-08d3f65fa9ad"
      },
      "execution_count": 38,
      "outputs": [
        {
          "output_type": "stream",
          "name": "stdout",
          "text": [
            "Gurobi Optimizer version 11.0.3 build v11.0.3rc0 (linux64 - \"Ubuntu 22.04.3 LTS\")\n",
            "\n",
            "CPU model: Intel(R) Xeon(R) CPU @ 2.20GHz, instruction set [SSE2|AVX|AVX2]\n",
            "Thread count: 1 physical cores, 2 logical processors, using up to 2 threads\n",
            "\n",
            "Optimize a model with 3 rows, 7 columns and 11 nonzeros\n",
            "Model fingerprint: 0x96480483\n",
            "Coefficient statistics:\n",
            "  Matrix range     [1e+00, 3e+01]\n",
            "  Objective range  [4e+01, 5e+01]\n",
            "  Bounds range     [0e+00, 0e+00]\n",
            "  RHS range        [1e+00, 5e+01]\n",
            "Presolve removed 0 rows and 3 columns\n",
            "Presolve time: 0.01s\n",
            "Presolved: 3 rows, 4 columns, 8 nonzeros\n",
            "\n",
            "Iteration    Objective       Primal Inf.    Dual Inf.      Time\n",
            "       0    1.2499976e+02   1.599195e+01   0.000000e+00      0s\n",
            "       3    9.5107141e+01   0.000000e+00   0.000000e+00      0s\n",
            "\n",
            "Solved in 3 iterations and 0.02 seconds (0.00 work units)\n",
            "Optimal objective  9.510714115e+01\n",
            "Optimal value of alpha_0: 0.0\n",
            "Optimal value of alpha_1: 1.0\n",
            "Optimal value of alpha_2: 0.0\n",
            "Optimal value of beta_0: 0.0\n",
            "Optimal value of beta_1: 0.5961538461538461\n",
            "Optimal value of beta_2: 0.4038461538461538\n",
            "Optimal value of s1: 0.0\n",
            "Optimal value of z: 95.10714115384614\n",
            "\n",
            "Shadow Prices for Constraints:\n",
            "c1: 0.142856923076923\n",
            "c2: 41.96429038461539\n",
            "c3: 46.000004615384626\n"
          ]
        }
      ]
    },
    {
      "cell_type": "code",
      "source": [
        "import gurobipy as gp\n",
        "from gurobipy import GRB\n",
        "\n",
        "model = gp.Model(\"i3s1\")\n",
        "\n",
        "x1 = model.addVar(lb=0, name=\"x1\")\n",
        "x3 = model.addVar(lb=0, name=\"x3\")\n",
        "x4 = model.addVar(lb=0, name=\"x4\")\n",
        "\n",
        "model.setObjective(5.2857155 * x1 + 5.4285724 * x3 + 4.7142862 * x4 - 41.96429, GRB.MAXIMIZE)\n",
        "\n",
        "model.addConstr(2 * x1 + x3 + 3 * x4 <= 25, \"c1\")\n",
        "model.addConstr(2 * x1 + 3 * x3 + x4 <= 10, \"c2\")\n",
        "\n",
        "model.optimize()\n",
        "\n",
        "if model.status == GRB.OPTIMAL:\n",
        "    print(f\"Optimal value of x1: {x1.X}\")\n",
        "    print(f\"Optimal value of x3: {x3.X}\")\n",
        "    print(f\"Optimal value of x4: {x4.X}\")\n",
        "    print(f\"Optimal value of z: {model.ObjVal}\")\n",
        "else:\n",
        "    print(\"No optimal solution found.\")"
      ],
      "metadata": {
        "colab": {
          "base_uri": "https://localhost:8080/"
        },
        "id": "YwnS0OEBPngT",
        "outputId": "5d1909d4-9081-4ab9-bfc7-671906cb42f6"
      },
      "execution_count": 39,
      "outputs": [
        {
          "output_type": "stream",
          "name": "stdout",
          "text": [
            "Gurobi Optimizer version 11.0.3 build v11.0.3rc0 (linux64 - \"Ubuntu 22.04.3 LTS\")\n",
            "\n",
            "CPU model: Intel(R) Xeon(R) CPU @ 2.20GHz, instruction set [SSE2|AVX|AVX2]\n",
            "Thread count: 1 physical cores, 2 logical processors, using up to 2 threads\n",
            "\n",
            "Optimize a model with 2 rows, 3 columns and 6 nonzeros\n",
            "Model fingerprint: 0xc2532516\n",
            "Coefficient statistics:\n",
            "  Matrix range     [1e+00, 3e+00]\n",
            "  Objective range  [5e+00, 5e+00]\n",
            "  Bounds range     [0e+00, 0e+00]\n",
            "  RHS range        [1e+01, 2e+01]\n",
            "Presolve time: 0.01s\n",
            "Presolved: 2 rows, 3 columns, 6 nonzeros\n",
            "\n",
            "Iteration    Objective       Primal Inf.    Dual Inf.      Time\n",
            "       0    2.0714290e+31   4.000000e+30   2.071429e+01      0s\n",
            "       3    8.7500000e-07   0.000000e+00   0.000000e+00      0s\n",
            "\n",
            "Solved in 3 iterations and 0.02 seconds (0.00 work units)\n",
            "Optimal objective  8.750000049e-07\n",
            "Optimal value of x1: 1.25\n",
            "Optimal value of x3: 0.0\n",
            "Optimal value of x4: 7.5\n",
            "Optimal value of z: 8.750000048962647e-07\n"
          ]
        }
      ]
    },
    {
      "cell_type": "code",
      "source": [
        "import gurobipy as gp\n",
        "from gurobipy import GRB\n",
        "\n",
        "model = gp.Model(\"i3s2\")\n",
        "\n",
        "x2 = model.addVar(lb=0, name=\"x2\")\n",
        "x5 = model.addVar(lb=0, name=\"x5\")\n",
        "\n",
        "model.setObjective(6.571429 * x2 + 9.857144 * x5 - 46.00000004, GRB.MAXIMIZE)\n",
        "\n",
        "model.addConstr(x2 + 5 * x5 <= 20, \"c1\")\n",
        "model.addConstr(x2 + 1.5 * x5 <= 7, \"c2\")\n",
        "\n",
        "model.optimize()\n",
        "\n",
        "if model.status == GRB.OPTIMAL:\n",
        "    print(f\"Optimal value of x2: {x2.X}\")\n",
        "    print(f\"Optimal value of x5: {x5.X}\")\n",
        "    print(f\"Optimal value of z: {model.ObjVal}\")\n",
        "else:\n",
        "    print(\"No optimal solution found.\")"
      ],
      "metadata": {
        "colab": {
          "base_uri": "https://localhost:8080/"
        },
        "id": "-ngtP2dMQ4sl",
        "outputId": "811f8e52-399d-4ebe-d80a-93400132fdad"
      },
      "execution_count": 40,
      "outputs": [
        {
          "output_type": "stream",
          "name": "stdout",
          "text": [
            "Gurobi Optimizer version 11.0.3 build v11.0.3rc0 (linux64 - \"Ubuntu 22.04.3 LTS\")\n",
            "\n",
            "CPU model: Intel(R) Xeon(R) CPU @ 2.20GHz, instruction set [SSE2|AVX|AVX2]\n",
            "Thread count: 1 physical cores, 2 logical processors, using up to 2 threads\n",
            "\n",
            "Optimize a model with 2 rows, 2 columns and 4 nonzeros\n",
            "Model fingerprint: 0xe62be8f4\n",
            "Coefficient statistics:\n",
            "  Matrix range     [1e+00, 5e+00]\n",
            "  Objective range  [7e+00, 1e+01]\n",
            "  Bounds range     [0e+00, 0e+00]\n",
            "  RHS range        [7e+00, 2e+01]\n",
            "Presolve time: 0.01s\n",
            "Presolved: 2 rows, 2 columns, 4 nonzeros\n",
            "\n",
            "Iteration    Objective       Primal Inf.    Dual Inf.      Time\n",
            "       0    1.6428573e+31   3.250000e+30   1.642857e+01      0s\n",
            "       2    4.8171429e-06   0.000000e+00   0.000000e+00      0s\n",
            "\n",
            "Solved in 2 iterations and 0.02 seconds (0.00 work units)\n",
            "Optimal objective  4.817142859e-06\n",
            "Optimal value of x2: 1.4285714285714288\n",
            "Optimal value of x5: 3.7142857142857144\n",
            "Optimal value of z: 4.817142858826173e-06\n"
          ]
        }
      ]
    }
  ]
}